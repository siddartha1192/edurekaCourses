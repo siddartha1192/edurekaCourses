{
  "nbformat": 4,
  "nbformat_minor": 0,
  "metadata": {
    "colab": {
      "provenance": [],
      "include_colab_link": true
    },
    "kernelspec": {
      "name": "python3",
      "display_name": "Python 3"
    },
    "language_info": {
      "name": "python"
    }
  },
  "cells": [
    {
      "cell_type": "markdown",
      "metadata": {
        "id": "view-in-github",
        "colab_type": "text"
      },
      "source": [
        "<a href=\"https://colab.research.google.com/github/siddartha1192/edurekaCourses/blob/main/PythonBasics_May25.ipynb\" target=\"_parent\"><img src=\"https://colab.research.google.com/assets/colab-badge.svg\" alt=\"Open In Colab\"/></a>"
      ]
    },
    {
      "cell_type": "code",
      "execution_count": null,
      "metadata": {
        "colab": {
          "base_uri": "https://localhost:8080/"
        },
        "id": "SuENniwoT4Tg",
        "outputId": "82e90517-6e7c-4e57-c366-6beda1bba52b"
      },
      "outputs": [
        {
          "output_type": "stream",
          "name": "stdout",
          "text": [
            "Welcome to Python World\n"
          ]
        }
      ],
      "source": [
        "print(\"Welcome to Python World\")"
      ]
    },
    {
      "cell_type": "markdown",
      "source": [
        "Keywords in Python"
      ],
      "metadata": {
        "id": "TdTS2L48VNqA"
      }
    },
    {
      "cell_type": "code",
      "source": [
        "import keyword\n",
        "print(keyword.kwlist)"
      ],
      "metadata": {
        "colab": {
          "base_uri": "https://localhost:8080/"
        },
        "id": "iWrTysmtURDQ",
        "outputId": "867ab971-05bc-45d0-b07d-4eb9009e9632"
      },
      "execution_count": null,
      "outputs": [
        {
          "output_type": "stream",
          "name": "stdout",
          "text": [
            "['False', 'None', 'True', 'and', 'as', 'assert', 'async', 'await', 'break', 'class', 'continue', 'def', 'del', 'elif', 'else', 'except', 'finally', 'for', 'from', 'global', 'if', 'import', 'in', 'is', 'lambda', 'nonlocal', 'not', 'or', 'pass', 'raise', 'return', 'try', 'while', 'with', 'yield']\n"
          ]
        }
      ]
    },
    {
      "cell_type": "markdown",
      "source": [
        "Identifier"
      ],
      "metadata": {
        "id": "i2LMa2fHVV-8"
      }
    },
    {
      "cell_type": "code",
      "source": [
        "age=45"
      ],
      "metadata": {
        "id": "uPFzOuZ1VTnj"
      },
      "execution_count": null,
      "outputs": []
    },
    {
      "cell_type": "markdown",
      "source": [
        "1.Keywords not allowed\n",
        "\n",
        "2.name should start from alphabet not with numbers or special chars(!@#$%^&*()+)\n",
        "\n",
        "3.Only _ underscore is allowed"
      ],
      "metadata": {
        "id": "XBFf9HnSVmpp"
      }
    },
    {
      "cell_type": "code",
      "source": [
        "10age=45"
      ],
      "metadata": {
        "colab": {
          "base_uri": "https://localhost:8080/",
          "height": 108
        },
        "id": "_BOU5RmFVDU-",
        "outputId": "8684dcf6-1a28-4f4f-afb8-276a289b454a"
      },
      "execution_count": null,
      "outputs": [
        {
          "output_type": "error",
          "ename": "SyntaxError",
          "evalue": "invalid decimal literal (<ipython-input-9-67070eea71a0>, line 1)",
          "traceback": [
            "\u001b[0;36m  File \u001b[0;32m\"<ipython-input-9-67070eea71a0>\"\u001b[0;36m, line \u001b[0;32m1\u001b[0m\n\u001b[0;31m    10age=45\u001b[0m\n\u001b[0m     ^\u001b[0m\n\u001b[0;31mSyntaxError\u001b[0m\u001b[0;31m:\u001b[0m invalid decimal literal\n"
          ]
        }
      ]
    },
    {
      "cell_type": "code",
      "source": [
        "age@10=45"
      ],
      "metadata": {
        "colab": {
          "base_uri": "https://localhost:8080/",
          "height": 108
        },
        "id": "suke73BrWBaU",
        "outputId": "8f6af95b-3944-44d3-9f2f-674b03ad9a80"
      },
      "execution_count": null,
      "outputs": [
        {
          "output_type": "error",
          "ename": "SyntaxError",
          "evalue": "cannot assign to expression here. Maybe you meant '==' instead of '='? (<ipython-input-10-df0fd9891b1b>, line 1)",
          "traceback": [
            "\u001b[0;36m  File \u001b[0;32m\"<ipython-input-10-df0fd9891b1b>\"\u001b[0;36m, line \u001b[0;32m1\u001b[0m\n\u001b[0;31m    age@10=45\u001b[0m\n\u001b[0m    ^\u001b[0m\n\u001b[0;31mSyntaxError\u001b[0m\u001b[0;31m:\u001b[0m cannot assign to expression here. Maybe you meant '==' instead of '='?\n"
          ]
        }
      ]
    },
    {
      "cell_type": "code",
      "source": [
        "age_10=45"
      ],
      "metadata": {
        "id": "ZPXurLXzWVdR"
      },
      "execution_count": null,
      "outputs": []
    },
    {
      "cell_type": "markdown",
      "source": [
        "Comments-to enhance the readable"
      ],
      "metadata": {
        "id": "bnVyRQ9dWi33"
      }
    },
    {
      "cell_type": "code",
      "source": [
        "#Single Line comment\n",
        "\n",
        "'''\n",
        "Multiple line comment\n",
        "'''"
      ],
      "metadata": {
        "id": "8fdB5Nj-WrNJ"
      },
      "execution_count": null,
      "outputs": []
    },
    {
      "cell_type": "markdown",
      "source": [
        "**Data Types**\n",
        "\n",
        "Numerical, characters etc"
      ],
      "metadata": {
        "id": "GEJbOZskXLdH"
      }
    },
    {
      "cell_type": "code",
      "source": [
        "#Numerical: int,float,complex\n",
        "#int\n",
        "salary=25000\n",
        "print(type(salary))\n",
        "print(isinstance(salary,int))"
      ],
      "metadata": {
        "colab": {
          "base_uri": "https://localhost:8080/"
        },
        "id": "66U7NdWiXVuX",
        "outputId": "5bea9b2d-5663-47b8-aecc-8ffd3c0a1c0f"
      },
      "execution_count": null,
      "outputs": [
        {
          "output_type": "stream",
          "name": "stdout",
          "text": [
            "<class 'int'>\n",
            "True\n"
          ]
        }
      ]
    },
    {
      "cell_type": "code",
      "source": [
        "#float\n",
        "roi=12.99\n",
        "print(type(roi))\n",
        "print(isinstance(roi,float))"
      ],
      "metadata": {
        "colab": {
          "base_uri": "https://localhost:8080/"
        },
        "id": "yJ0F2OCEYbcS",
        "outputId": "ace996b8-0b9c-4342-cccc-4bb8f76981f8"
      },
      "execution_count": null,
      "outputs": [
        {
          "output_type": "stream",
          "name": "stdout",
          "text": [
            "<class 'float'>\n",
            "True\n"
          ]
        }
      ]
    },
    {
      "cell_type": "code",
      "source": [
        "import sys\n",
        "print(sys.getsizeof(salary))  #Size in bytes"
      ],
      "metadata": {
        "colab": {
          "base_uri": "https://localhost:8080/"
        },
        "id": "ewhrsbC_Yg1a",
        "outputId": "89c6328e-f52c-4b0c-8694-97b6d1bc056f"
      },
      "execution_count": null,
      "outputs": [
        {
          "output_type": "stream",
          "name": "stdout",
          "text": [
            "28\n"
          ]
        }
      ]
    },
    {
      "cell_type": "code",
      "source": [
        "#Strings: group of characters\n",
        "#name=\"Amit Sharma\"\n",
        "name='Amit Sharma'\n",
        "print(type(name))"
      ],
      "metadata": {
        "colab": {
          "base_uri": "https://localhost:8080/"
        },
        "id": "MzejKBEuZB-4",
        "outputId": "462465c1-896a-47a9-ecc8-24d9862c9e51"
      },
      "execution_count": null,
      "outputs": [
        {
          "output_type": "stream",
          "name": "stdout",
          "text": [
            "<class 'str'>\n"
          ]
        }
      ]
    },
    {
      "cell_type": "code",
      "source": [
        "print(\"The 'Sun' rises in east\")"
      ],
      "metadata": {
        "colab": {
          "base_uri": "https://localhost:8080/"
        },
        "id": "2LTnYPUgZTJO",
        "outputId": "627cb9c7-7988-461c-d4cf-6290b2e38382"
      },
      "execution_count": null,
      "outputs": [
        {
          "output_type": "stream",
          "name": "stdout",
          "text": [
            "The 'Sun' rises in east\n"
          ]
        }
      ]
    },
    {
      "cell_type": "code",
      "source": [
        "#Boolean: True/False\n",
        "age=6\n",
        "print(age>18)"
      ],
      "metadata": {
        "colab": {
          "base_uri": "https://localhost:8080/"
        },
        "id": "VZT06mhKZm9g",
        "outputId": "ee2cdfca-91c4-4123-d657-d0f3d326f35c"
      },
      "execution_count": null,
      "outputs": [
        {
          "output_type": "stream",
          "name": "stdout",
          "text": [
            "False\n"
          ]
        }
      ]
    },
    {
      "cell_type": "markdown",
      "source": [
        "Dynamic Typing"
      ],
      "metadata": {
        "id": "_qdV2LliaUXj"
      }
    },
    {
      "cell_type": "code",
      "source": [
        "#int age=40  static Typing\n",
        "var=200\n",
        "print(var)\n",
        "print(type(var))\n",
        "\n",
        "var='sample'\n",
        "print(var)\n",
        "print(type(var))\n",
        "\n",
        "var=45.36\n",
        "print(var)\n",
        "print(type(var))\n",
        "\n",
        "var=['Amit','kapil','Rajesh']\n",
        "print(var)\n",
        "print(type(var))"
      ],
      "metadata": {
        "colab": {
          "base_uri": "https://localhost:8080/"
        },
        "id": "5qmpIneTaE-M",
        "outputId": "ff09b6d5-d737-4784-8939-4bc6e9e9dbb9"
      },
      "execution_count": null,
      "outputs": [
        {
          "output_type": "stream",
          "name": "stdout",
          "text": [
            "200\n",
            "<class 'int'>\n",
            "sample\n",
            "<class 'str'>\n",
            "45.36\n",
            "<class 'float'>\n",
            "['Amit', 'kapil', 'Rajesh']\n",
            "<class 'list'>\n"
          ]
        }
      ]
    },
    {
      "cell_type": "markdown",
      "source": [
        "Sequences/Collection Datatypes/Built-in datastructure: Strings,list,tuple,set,dictionary"
      ],
      "metadata": {
        "id": "bbneCfQRb9KV"
      }
    },
    {
      "cell_type": "code",
      "source": [
        "#Collections: managing multiple values\n",
        "\n",
        "#Ordered/Unordered(index)\n",
        "#Mutable/Immutable(changes can be made)\n",
        "#Duplicates are allowed or not ?\n",
        "\n",
        "#1.strings:Ordered,Immutable,duplicates are allowed\n",
        "#2.list[]: Ordered,Mutable,allow duplicates\n",
        "#3.tuple():ordered,Immutable, allow duplicates\n",
        "#4.set{}:unordered,mutable,DO NO ALLOW DUPLICATES\n",
        "#5.dict{key:value}:unordered,keys are immutable,values are mutable"
      ],
      "metadata": {
        "id": "XXkPFvzmaz_d"
      },
      "execution_count": null,
      "outputs": []
    },
    {
      "cell_type": "markdown",
      "source": [
        "Python Lists"
      ],
      "metadata": {
        "id": "aRNZKztwk4Uo"
      }
    },
    {
      "cell_type": "code",
      "source": [
        "emp=[1002,'Amit Sharma',25000,4.6,'Mumbai',['project1','project2']]\n",
        "print(type(emp))"
      ],
      "metadata": {
        "colab": {
          "base_uri": "https://localhost:8080/"
        },
        "id": "lUXtN8iZk3ug",
        "outputId": "e2758841-bd44-4d3b-c6ae-706a47fbbe51"
      },
      "execution_count": null,
      "outputs": [
        {
          "output_type": "stream",
          "name": "stdout",
          "text": [
            "<class 'list'>\n"
          ]
        }
      ]
    },
    {
      "cell_type": "code",
      "source": [
        "print(emp[0])\n",
        "print(emp[5]) #Ordered"
      ],
      "metadata": {
        "colab": {
          "base_uri": "https://localhost:8080/"
        },
        "id": "o-dcaWj8laDe",
        "outputId": "bfc80d45-36d5-4802-9332-bd57bd055d95"
      },
      "execution_count": null,
      "outputs": [
        {
          "output_type": "stream",
          "name": "stdout",
          "text": [
            "1002\n",
            "['project1', 'project2']\n"
          ]
        }
      ]
    },
    {
      "cell_type": "code",
      "source": [
        "emp[2]=35000  #Updating\n",
        "print(emp)"
      ],
      "metadata": {
        "colab": {
          "base_uri": "https://localhost:8080/"
        },
        "id": "Tk4GLdLumfPp",
        "outputId": "ce714c3d-a092-4fa4-a082-eb1880badd05"
      },
      "execution_count": null,
      "outputs": [
        {
          "output_type": "stream",
          "name": "stdout",
          "text": [
            "[1002, 'Amit Sharma', 35000, 4.6, 'Mumbai', ['project1', 'project2']]\n"
          ]
        }
      ]
    },
    {
      "cell_type": "code",
      "source": [
        "lst=[10,10,10,20,20,30,60]  #Allows duplicates\n",
        "print(lst)"
      ],
      "metadata": {
        "colab": {
          "base_uri": "https://localhost:8080/"
        },
        "id": "zb0J2Hnzm7ne",
        "outputId": "60ae3a36-453d-4766-878e-fec0201f005b"
      },
      "execution_count": null,
      "outputs": [
        {
          "output_type": "stream",
          "name": "stdout",
          "text": [
            "[10, 10, 10, 20, 20, 30, 60]\n"
          ]
        }
      ]
    },
    {
      "cell_type": "markdown",
      "source": [
        "Python Tuple"
      ],
      "metadata": {
        "id": "Ct8nn4JZnajD"
      }
    },
    {
      "cell_type": "code",
      "source": [
        "tup=(1002, 'Amit Sharma', 35000, 4.6, 'Mumbai')\n",
        "print(type(tup))"
      ],
      "metadata": {
        "colab": {
          "base_uri": "https://localhost:8080/"
        },
        "id": "JfXgYONWnJoV",
        "outputId": "ce1520df-ef38-411a-c0bd-be9adf63c50a"
      },
      "execution_count": null,
      "outputs": [
        {
          "output_type": "stream",
          "name": "stdout",
          "text": [
            "<class 'tuple'>\n"
          ]
        }
      ]
    },
    {
      "cell_type": "code",
      "source": [
        "print(tup[0]) #indexed\n"
      ],
      "metadata": {
        "colab": {
          "base_uri": "https://localhost:8080/"
        },
        "id": "3e5hSIUEnqa9",
        "outputId": "a7ba316c-5cf3-40e0-a714-072db59ec417"
      },
      "execution_count": null,
      "outputs": [
        {
          "output_type": "stream",
          "name": "stdout",
          "text": [
            "1002\n"
          ]
        }
      ]
    },
    {
      "cell_type": "code",
      "source": [
        "tup[3]=4.8\n",
        "print(tup)"
      ],
      "metadata": {
        "colab": {
          "base_uri": "https://localhost:8080/",
          "height": 160
        },
        "id": "f5_BBwVXnxzM",
        "outputId": "3933643a-1613-43fe-843a-ccd6733216aa"
      },
      "execution_count": null,
      "outputs": [
        {
          "output_type": "error",
          "ename": "TypeError",
          "evalue": "'tuple' object does not support item assignment",
          "traceback": [
            "\u001b[0;31m---------------------------------------------------------------------------\u001b[0m",
            "\u001b[0;31mTypeError\u001b[0m                                 Traceback (most recent call last)",
            "\u001b[0;32m<ipython-input-36-d3397096acb4>\u001b[0m in \u001b[0;36m<cell line: 0>\u001b[0;34m()\u001b[0m\n\u001b[0;32m----> 1\u001b[0;31m \u001b[0mtup\u001b[0m\u001b[0;34m[\u001b[0m\u001b[0;36m3\u001b[0m\u001b[0;34m]\u001b[0m\u001b[0;34m=\u001b[0m\u001b[0;36m4.8\u001b[0m\u001b[0;34m\u001b[0m\u001b[0;34m\u001b[0m\u001b[0m\n\u001b[0m\u001b[1;32m      2\u001b[0m \u001b[0mprint\u001b[0m\u001b[0;34m(\u001b[0m\u001b[0mtup\u001b[0m\u001b[0;34m)\u001b[0m\u001b[0;34m\u001b[0m\u001b[0;34m\u001b[0m\u001b[0m\n",
            "\u001b[0;31mTypeError\u001b[0m: 'tuple' object does not support item assignment"
          ]
        }
      ]
    },
    {
      "cell_type": "markdown",
      "source": [
        "List Operations"
      ],
      "metadata": {
        "id": "JXm_7wRzoYvy"
      }
    },
    {
      "cell_type": "code",
      "source": [
        "emp=[1002,'Amit Sharma',25000,4.6,'Mumbai',['project1','project2']]\n",
        "print(len(emp))"
      ],
      "metadata": {
        "colab": {
          "base_uri": "https://localhost:8080/"
        },
        "id": "OyFDwpbAn-ys",
        "outputId": "aae3badf-0e0c-4307-a668-313892c64244"
      },
      "execution_count": null,
      "outputs": [
        {
          "output_type": "stream",
          "name": "stdout",
          "text": [
            "6\n"
          ]
        }
      ]
    },
    {
      "cell_type": "code",
      "source": [
        "#Insert item: append(),extend(),insert()\n",
        "emp.append(\"Developer\")  #add one item only at the end\n",
        "print(emp)\n",
        "print(len(emp))"
      ],
      "metadata": {
        "colab": {
          "base_uri": "https://localhost:8080/",
          "height": 196
        },
        "id": "fNN4iZJsomiP",
        "outputId": "831d83eb-85f5-47b6-9d31-a6fead237d1c"
      },
      "execution_count": null,
      "outputs": [
        {
          "output_type": "error",
          "ename": "TypeError",
          "evalue": "list.append() takes exactly one argument (2 given)",
          "traceback": [
            "\u001b[0;31m---------------------------------------------------------------------------\u001b[0m",
            "\u001b[0;31mTypeError\u001b[0m                                 Traceback (most recent call last)",
            "\u001b[0;32m<ipython-input-43-e692f483f9e2>\u001b[0m in \u001b[0;36m<cell line: 0>\u001b[0;34m()\u001b[0m\n\u001b[1;32m      1\u001b[0m \u001b[0;31m#Insert item: append(),extend(),insert()\u001b[0m\u001b[0;34m\u001b[0m\u001b[0;34m\u001b[0m\u001b[0m\n\u001b[0;32m----> 2\u001b[0;31m \u001b[0memp\u001b[0m\u001b[0;34m.\u001b[0m\u001b[0mappend\u001b[0m\u001b[0;34m(\u001b[0m\u001b[0;34m\"Developer\"\u001b[0m\u001b[0;34m,\u001b[0m\u001b[0;34m'xyz'\u001b[0m\u001b[0;34m)\u001b[0m  \u001b[0;31m#add one item only at the end\u001b[0m\u001b[0;34m\u001b[0m\u001b[0;34m\u001b[0m\u001b[0m\n\u001b[0m\u001b[1;32m      3\u001b[0m \u001b[0mprint\u001b[0m\u001b[0;34m(\u001b[0m\u001b[0memp\u001b[0m\u001b[0;34m)\u001b[0m\u001b[0;34m\u001b[0m\u001b[0;34m\u001b[0m\u001b[0m\n\u001b[1;32m      4\u001b[0m \u001b[0mprint\u001b[0m\u001b[0;34m(\u001b[0m\u001b[0mlen\u001b[0m\u001b[0;34m(\u001b[0m\u001b[0memp\u001b[0m\u001b[0;34m)\u001b[0m\u001b[0;34m)\u001b[0m\u001b[0;34m\u001b[0m\u001b[0;34m\u001b[0m\u001b[0m\n",
            "\u001b[0;31mTypeError\u001b[0m: list.append() takes exactly one argument (2 given)"
          ]
        }
      ]
    },
    {
      "cell_type": "code",
      "source": [
        "print(emp)\n",
        "emp.extend(['item1','item2','item3'])  #add multiple items at the end of the list"
      ],
      "metadata": {
        "colab": {
          "base_uri": "https://localhost:8080/"
        },
        "id": "McABBLzVpLt2",
        "outputId": "78652977-1e6e-418f-b3aa-18dba16e9bd0"
      },
      "execution_count": null,
      "outputs": [
        {
          "output_type": "stream",
          "name": "stdout",
          "text": [
            "[1002, 'Amit Sharma', 25000, 4.6, 'Mumbai', ['project1', 'project2'], 'Developer']\n"
          ]
        }
      ]
    },
    {
      "cell_type": "code",
      "source": [
        "print(emp)"
      ],
      "metadata": {
        "colab": {
          "base_uri": "https://localhost:8080/"
        },
        "id": "_F6ZGO1tqPTK",
        "outputId": "027b585d-3bb7-434b-effa-e267ddaa27d8"
      },
      "execution_count": null,
      "outputs": [
        {
          "output_type": "stream",
          "name": "stdout",
          "text": [
            "[1002, 'Amit Sharma', 25000, 4.6, 'Mumbai', ['project1', 'project2'], 'Developer', 'item1', 'item2', 'item3']\n"
          ]
        }
      ]
    },
    {
      "cell_type": "code",
      "source": [
        "#insert(index,item) allow to add item at position(index)\n",
        "emp.insert(2,'Male')\n",
        "print(emp)"
      ],
      "metadata": {
        "colab": {
          "base_uri": "https://localhost:8080/"
        },
        "id": "ce4oC0GIqas5",
        "outputId": "7e498bec-13f6-4cf6-e384-616059ca1e7c"
      },
      "execution_count": null,
      "outputs": [
        {
          "output_type": "stream",
          "name": "stdout",
          "text": [
            "[1002, 'Amit Sharma', 'Male', 25000, 4.6, 'Mumbai', ['project1', 'project2'], 'Developer', 'item1', 'item2', 'item3']\n"
          ]
        }
      ]
    },
    {
      "cell_type": "code",
      "source": [
        "#Remove Item:pop(),remove()\n",
        "emp.pop()  #remove last item\n",
        "print(emp)"
      ],
      "metadata": {
        "colab": {
          "base_uri": "https://localhost:8080/"
        },
        "id": "ZL2FAOQcrCDZ",
        "outputId": "3dcb46a6-2a3f-40da-926c-daa98e40e335"
      },
      "execution_count": null,
      "outputs": [
        {
          "output_type": "stream",
          "name": "stdout",
          "text": [
            "[1002, 'Amit Sharma', 'Male', 25000, 4.6, 'Mumbai', ['project1', 'project2'], 'Developer', 'item1', 'item2']\n"
          ]
        }
      ]
    },
    {
      "cell_type": "code",
      "source": [
        "emp.index(\"item1\")"
      ],
      "metadata": {
        "colab": {
          "base_uri": "https://localhost:8080/"
        },
        "id": "Hq5I0eU3ri1q",
        "outputId": "6126ee5b-8dfc-4f13-804f-f502ecb2bc4d"
      },
      "execution_count": null,
      "outputs": [
        {
          "output_type": "execute_result",
          "data": {
            "text/plain": [
              "8"
            ]
          },
          "metadata": {},
          "execution_count": 50
        }
      ]
    },
    {
      "cell_type": "code",
      "source": [
        "emp.pop(8) #remove item at index\n",
        "print(emp)"
      ],
      "metadata": {
        "colab": {
          "base_uri": "https://localhost:8080/"
        },
        "id": "ggGukYDZryWh",
        "outputId": "e3fbe809-040d-4e72-b4b1-a8c61e3b30d2"
      },
      "execution_count": null,
      "outputs": [
        {
          "output_type": "stream",
          "name": "stdout",
          "text": [
            "[1002, 'Amit Sharma', 'Male', 25000, 4.6, 'Mumbai', ['project1', 'project2'], 'Developer', 'item2']\n"
          ]
        }
      ]
    },
    {
      "cell_type": "code",
      "source": [
        "#remove()\n",
        "emp.remove('Mumbai') #remove item\n",
        "print(emp)"
      ],
      "metadata": {
        "colab": {
          "base_uri": "https://localhost:8080/"
        },
        "id": "ylxVZV7kr7N1",
        "outputId": "a8fae0b0-68ac-4bba-d6ae-e43aa5cfc71e"
      },
      "execution_count": null,
      "outputs": [
        {
          "output_type": "stream",
          "name": "stdout",
          "text": [
            "[1002, 'Amit Sharma', 'Male', 25000, 4.6, ['project1', 'project2'], 'Developer', 'item2']\n"
          ]
        }
      ]
    },
    {
      "cell_type": "code",
      "source": [
        "lst=[45,63,98,56,45,26,37,54]\n",
        "#lst.remove(45)  #remove the first occurance\n",
        "print(lst)\n",
        "print(lst.index(45))"
      ],
      "metadata": {
        "colab": {
          "base_uri": "https://localhost:8080/"
        },
        "id": "s7QlOLlGsddv",
        "outputId": "d8669c4d-fcfe-44e1-80c6-dbc852f22b26"
      },
      "execution_count": null,
      "outputs": [
        {
          "output_type": "stream",
          "name": "stdout",
          "text": [
            "[45, 63, 98, 56, 45, 26, 37, 54]\n",
            "0\n"
          ]
        }
      ]
    },
    {
      "cell_type": "code",
      "source": [
        "#remove duplicates\n",
        "for i in lst:\n",
        "  if i==45:\n",
        "    lst.remove(45)\n",
        "\n",
        "print(lst)"
      ],
      "metadata": {
        "colab": {
          "base_uri": "https://localhost:8080/"
        },
        "id": "_MJGb4RZspdr",
        "outputId": "1b5d2098-83cc-410b-b1f4-db9bfb018ca3"
      },
      "execution_count": null,
      "outputs": [
        {
          "output_type": "stream",
          "name": "stdout",
          "text": [
            "[63, 98, 56, 26, 37, 54]\n"
          ]
        }
      ]
    },
    {
      "cell_type": "markdown",
      "source": [
        "Python Sets: unordered,Do not allows duplicates"
      ],
      "metadata": {
        "id": "zvKZfbgot44G"
      }
    },
    {
      "cell_type": "code",
      "source": [
        "st={45,63,98,56,23,75,48,96,23}\n",
        "print(type(st))"
      ],
      "metadata": {
        "colab": {
          "base_uri": "https://localhost:8080/"
        },
        "id": "3Wnfi2aat60_",
        "outputId": "08412bc1-9cfa-4bd6-eb57-5d8fbdc49a32"
      },
      "execution_count": null,
      "outputs": [
        {
          "output_type": "stream",
          "name": "stdout",
          "text": [
            "<class 'set'>\n"
          ]
        }
      ]
    },
    {
      "cell_type": "code",
      "source": [
        "print(st[0])  #unordered"
      ],
      "metadata": {
        "colab": {
          "base_uri": "https://localhost:8080/",
          "height": 143
        },
        "id": "2OQaqw14uMIU",
        "outputId": "4fa43712-2c41-4e5e-bfd9-b7dc9faaa759"
      },
      "execution_count": null,
      "outputs": [
        {
          "output_type": "error",
          "ename": "TypeError",
          "evalue": "'set' object is not subscriptable",
          "traceback": [
            "\u001b[0;31m---------------------------------------------------------------------------\u001b[0m",
            "\u001b[0;31mTypeError\u001b[0m                                 Traceback (most recent call last)",
            "\u001b[0;32m<ipython-input-58-5db82c9a72c1>\u001b[0m in \u001b[0;36m<cell line: 0>\u001b[0;34m()\u001b[0m\n\u001b[0;32m----> 1\u001b[0;31m \u001b[0mprint\u001b[0m\u001b[0;34m(\u001b[0m\u001b[0mst\u001b[0m\u001b[0;34m[\u001b[0m\u001b[0;36m0\u001b[0m\u001b[0;34m]\u001b[0m\u001b[0;34m)\u001b[0m\u001b[0;34m\u001b[0m\u001b[0;34m\u001b[0m\u001b[0m\n\u001b[0m",
            "\u001b[0;31mTypeError\u001b[0m: 'set' object is not subscriptable"
          ]
        }
      ]
    },
    {
      "cell_type": "code",
      "source": [
        "print(st)"
      ],
      "metadata": {
        "colab": {
          "base_uri": "https://localhost:8080/"
        },
        "id": "MXVTzoJmuavi",
        "outputId": "85ea6b89-6b39-424a-dd6b-cfb7ca465921"
      },
      "execution_count": null,
      "outputs": [
        {
          "output_type": "stream",
          "name": "stdout",
          "text": [
            "{96, 98, 75, 45, 48, 23, 56, 63}\n"
          ]
        }
      ]
    },
    {
      "cell_type": "code",
      "source": [
        "st={10,20,20,20,30,30,30,10,50,60}\n",
        "print(type(st))"
      ],
      "metadata": {
        "colab": {
          "base_uri": "https://localhost:8080/"
        },
        "id": "A-hZVD6Xuk3C",
        "outputId": "f38307c7-52a2-4f6f-d5a7-f4445a6b16c1"
      },
      "execution_count": null,
      "outputs": [
        {
          "output_type": "stream",
          "name": "stdout",
          "text": [
            "<class 'set'>\n"
          ]
        }
      ]
    },
    {
      "cell_type": "code",
      "source": [
        "print(st) #Do not allow duplicates"
      ],
      "metadata": {
        "colab": {
          "base_uri": "https://localhost:8080/"
        },
        "id": "tsPSoekxu5v-",
        "outputId": "8ad6a2de-8aed-47fe-9853-a2bf6f6c1b34"
      },
      "execution_count": null,
      "outputs": [
        {
          "output_type": "stream",
          "name": "stdout",
          "text": [
            "{50, 20, 10, 60, 30}\n"
          ]
        }
      ]
    },
    {
      "cell_type": "code",
      "source": [
        "#set Opertions\n",
        "st1={10,20,30,40,50}\n",
        "st2={40,50,60,70,80}\n",
        "print(st1.union(st2))\n",
        "print(st1.intersection(st2))\n",
        "print(st1.difference(st2))  #elements in st1 but not in st2\n",
        "print(st2.difference(st1))"
      ],
      "metadata": {
        "colab": {
          "base_uri": "https://localhost:8080/"
        },
        "id": "RiMKf65pu80f",
        "outputId": "cbe931db-eab0-499f-bb33-dfa113725d3e"
      },
      "execution_count": null,
      "outputs": [
        {
          "output_type": "stream",
          "name": "stdout",
          "text": [
            "{70, 40, 10, 80, 50, 20, 60, 30}\n",
            "{40, 50}\n",
            "{10, 20, 30}\n",
            "{80, 60, 70}\n"
          ]
        }
      ]
    },
    {
      "cell_type": "code",
      "source": [
        "#Type Conversion/casting\n",
        "lst=[10,20,20,30,50,50,60,30]\n",
        "print(type(lst))\n",
        "tup=tuple(lst) #list converted into tuple\n",
        "print(tup)\n",
        "\n",
        "st=set(lst) #list converted into set\n",
        "print(st)\n",
        "\n",
        "lst=list(st) #set converted into list\n",
        "print(lst)"
      ],
      "metadata": {
        "colab": {
          "base_uri": "https://localhost:8080/"
        },
        "id": "Yy73M8JZxghZ",
        "outputId": "c33644b7-c041-41a9-85c6-62c67c7825c9"
      },
      "execution_count": null,
      "outputs": [
        {
          "output_type": "stream",
          "name": "stdout",
          "text": [
            "<class 'list'>\n",
            "(10, 20, 20, 30, 50, 50, 60, 30)\n",
            "{10, 50, 20, 60, 30}\n",
            "[10, 50, 20, 60, 30]\n"
          ]
        }
      ]
    },
    {
      "cell_type": "code",
      "source": [
        "#Nested Sequences\n",
        "emp=[1002,'Amit Sharma',25000,4.6,'Mumbai',['project1','project2']]\n",
        "print(emp)\n",
        "print(emp[5])\n",
        "\n",
        "print(emp[5][0])  #Forwarded index"
      ],
      "metadata": {
        "colab": {
          "base_uri": "https://localhost:8080/"
        },
        "id": "1a5C7ANqxrKv",
        "outputId": "643bb4d6-1759-405d-d6d8-4e5ffd7ae226"
      },
      "execution_count": null,
      "outputs": [
        {
          "output_type": "stream",
          "name": "stdout",
          "text": [
            "[1002, 'Amit Sharma', 25000, 4.6, 'Mumbai', ['project1', 'project2']]\n",
            "['project1', 'project2']\n",
            "project1\n"
          ]
        }
      ]
    },
    {
      "cell_type": "markdown",
      "source": [
        "Python Dictionaries\n",
        "{key:value}"
      ],
      "metadata": {
        "id": "knF7zCzhXOEh"
      }
    },
    {
      "cell_type": "code",
      "source": [
        "emp={'id':1002,'name':'Amit Sharma','salary':25000,'exp':4.6,'city':'Mumbai'}\n",
        "print(type(emp))"
      ],
      "metadata": {
        "colab": {
          "base_uri": "https://localhost:8080/"
        },
        "id": "PS_69oHGXNlE",
        "outputId": "aba3ee86-4624-497c-d64e-f5ac458f2d99"
      },
      "execution_count": null,
      "outputs": [
        {
          "output_type": "stream",
          "name": "stdout",
          "text": [
            "<class 'dict'>\n"
          ]
        }
      ]
    },
    {
      "cell_type": "code",
      "source": [
        "print(emp['exp'])"
      ],
      "metadata": {
        "colab": {
          "base_uri": "https://localhost:8080/"
        },
        "id": "MqqX_vYGWj8o",
        "outputId": "b66706e6-b6f1-4897-b667-aed82bea6567"
      },
      "execution_count": null,
      "outputs": [
        {
          "output_type": "stream",
          "name": "stdout",
          "text": [
            "4.6\n"
          ]
        }
      ]
    },
    {
      "cell_type": "code",
      "source": [
        "emp['salary']=35000\n",
        "print( emp)"
      ],
      "metadata": {
        "colab": {
          "base_uri": "https://localhost:8080/"
        },
        "id": "SYMgqndKYpQP",
        "outputId": "8bf728bf-f9ae-414a-8c57-4cc3a4b0d103"
      },
      "execution_count": null,
      "outputs": [
        {
          "output_type": "stream",
          "name": "stdout",
          "text": [
            "{'id': 1002, 'name': 'Amit Sharma', 'salary': 35000, 'exp': 4.6, 'city': 'Mumbai'}\n"
          ]
        }
      ]
    },
    {
      "cell_type": "code",
      "source": [
        "#Insert new key-value pair\n",
        "emp['Gender']='Male'\n",
        "print(emp)"
      ],
      "metadata": {
        "colab": {
          "base_uri": "https://localhost:8080/"
        },
        "id": "Uv3VMw_-Y3st",
        "outputId": "bed86ab7-7bef-42f7-d195-d3edf764a5fe"
      },
      "execution_count": null,
      "outputs": [
        {
          "output_type": "stream",
          "name": "stdout",
          "text": [
            "{'id': 1002, 'name': 'Amit Sharma', 'salary': 35000, 'exp': 4.6, 'city': 'Mumbai', 'Gender': 'Male'}\n"
          ]
        }
      ]
    },
    {
      "cell_type": "code",
      "source": [
        "#Remove\n",
        "emp.pop('Gender')\n",
        "print(emp)"
      ],
      "metadata": {
        "colab": {
          "base_uri": "https://localhost:8080/"
        },
        "id": "8cxEi55ZZV5A",
        "outputId": "4ee9990f-73df-47c2-bde8-fab6d8a87eda"
      },
      "execution_count": null,
      "outputs": [
        {
          "output_type": "stream",
          "name": "stdout",
          "text": [
            "{'id': 1002, 'name': 'Amit Sharma', 'salary': 35000, 'exp': 4.6, 'city': 'Mumbai'}\n"
          ]
        }
      ]
    },
    {
      "cell_type": "code",
      "source": [
        "emp={'id':[1001,1002,1003],'name':['Amit','Kapil','Ramesh'],'salary':[25000,35000,45000]}\n",
        "print(emp)\n",
        "\n",
        "import pandas as pd\n",
        "df=pd.DataFrame(emp)\n",
        "print(df)"
      ],
      "metadata": {
        "colab": {
          "base_uri": "https://localhost:8080/"
        },
        "id": "yCL4KLx7ZiG1",
        "outputId": "f75f81e4-0c06-4cd1-94b1-2c5b7dd39af8"
      },
      "execution_count": null,
      "outputs": [
        {
          "output_type": "stream",
          "name": "stdout",
          "text": [
            "{'id': [1001, 1002, 1003], 'name': ['Amit', 'Kapil', 'Ramesh'], 'salary': [25000, 35000, 45000]}\n",
            "     id    name  salary\n",
            "0  1001    Amit   25000\n",
            "1  1002   Kapil   35000\n",
            "2  1003  Ramesh   45000\n"
          ]
        }
      ]
    },
    {
      "cell_type": "markdown",
      "source": [
        "Python Strings\n",
        "\n",
        "slicing,interpolation,inputs"
      ],
      "metadata": {
        "id": "4_tv9T0sbR2c"
      }
    },
    {
      "cell_type": "code",
      "source": [
        "str=\"sample string\"\n",
        "lst=list(str)\n",
        "print(lst)"
      ],
      "metadata": {
        "colab": {
          "base_uri": "https://localhost:8080/"
        },
        "id": "jB-qcH5cbAT-",
        "outputId": "99caff7c-e95d-4dc3-cc69-be396a328988"
      },
      "execution_count": null,
      "outputs": [
        {
          "output_type": "stream",
          "name": "stdout",
          "text": [
            "['s', 'a', 'm', 'p', 'l', 'e', ' ', 's', 't', 'r', 'i', 'n', 'g']\n"
          ]
        }
      ]
    },
    {
      "cell_type": "code",
      "source": [
        "print(str[1])"
      ],
      "metadata": {
        "colab": {
          "base_uri": "https://localhost:8080/"
        },
        "id": "p5fJdaKFbybg",
        "outputId": "50c36c0e-3693-4217-91f3-67e2ff043584"
      },
      "execution_count": null,
      "outputs": [
        {
          "output_type": "stream",
          "name": "stdout",
          "text": [
            "a\n"
          ]
        }
      ]
    },
    {
      "cell_type": "code",
      "source": [
        "#String Slicing\n",
        "#str[start:stop:step]\n",
        "str=\"abcdefghojklmnopqrst\"\n",
        "print(str[0:5])  #start=inclusive,stop=exclusive\n",
        "print(str[5:12])\n",
        "print(str[0:10:2])\n",
        "\n",
        "print(str[-2])\n",
        "print(str[::-1])  #Reverse items"
      ],
      "metadata": {
        "colab": {
          "base_uri": "https://localhost:8080/"
        },
        "id": "f9Ql_MJUb1Xx",
        "outputId": "5a3a57a3-673b-4e62-efcb-fb744214a4bc"
      },
      "execution_count": null,
      "outputs": [
        {
          "output_type": "stream",
          "name": "stdout",
          "text": [
            "abcde\n",
            "fghojkl\n",
            "acego\n",
            "s\n",
            "tsrqponmlkjohgfedcba\n"
          ]
        }
      ]
    },
    {
      "cell_type": "code",
      "source": [
        "#Keyboard inputs\n",
        "name=input(\"Enter your name:\")\n",
        "print(name)\n",
        "age=input(\"Enter your age:\")\n",
        "print(age)\n",
        "print(type(age))"
      ],
      "metadata": {
        "colab": {
          "base_uri": "https://localhost:8080/"
        },
        "id": "q770iBoaczYF",
        "outputId": "235a4cc2-724c-4c2e-c8b2-693263902e9f"
      },
      "execution_count": null,
      "outputs": [
        {
          "output_type": "stream",
          "name": "stdout",
          "text": [
            "Enter your name:Amit\n",
            "Amit\n",
            "Enter your age:25\n",
            "25\n",
            "<class 'str'>\n"
          ]
        }
      ]
    },
    {
      "cell_type": "code",
      "source": [
        "name=input(\"Enter your name:\")\n",
        "print(name)\n",
        "#age=int(input(\"Enter your age:\"))  #converting/casting string to int\n",
        "age=float(input(\"Enter your age:\"))\n",
        "print(age)\n",
        "print(type(age))"
      ],
      "metadata": {
        "colab": {
          "base_uri": "https://localhost:8080/"
        },
        "id": "nK6xMVW4fI3T",
        "outputId": "382c7bda-3628-4904-8328-90f592c62a04"
      },
      "execution_count": null,
      "outputs": [
        {
          "output_type": "stream",
          "name": "stdout",
          "text": [
            "Enter your name:Amit\n",
            "Amit\n",
            "Enter your age:25\n",
            "25.0\n",
            "<class 'float'>\n"
          ]
        }
      ]
    },
    {
      "cell_type": "code",
      "source": [
        "#String Interpolations/Embadding\n",
        "name=input(\"Enter your name:\")\n",
        "print(f\"Hi,{name} good morning\")"
      ],
      "metadata": {
        "colab": {
          "base_uri": "https://localhost:8080/"
        },
        "id": "k1qSfKNsgCIt",
        "outputId": "0fdbeb03-c57f-42cb-9b06-c76d07a59c96"
      },
      "execution_count": null,
      "outputs": [
        {
          "output_type": "stream",
          "name": "stdout",
          "text": [
            "Enter your name:Kapil\n",
            "Hi,Kapil good morning\n"
          ]
        }
      ]
    },
    {
      "cell_type": "code",
      "source": [
        "#Formatted Strings(f-strings)\n",
        "#{}-place holder\n",
        "name='Tarun'\n",
        "balance=450000\n",
        "\n",
        "print(f\"Hi,{name} your balance is {balance}\")"
      ],
      "metadata": {
        "colab": {
          "base_uri": "https://localhost:8080/"
        },
        "id": "MGPkpoZMghgI",
        "outputId": "c36dfdf7-7ade-407b-f6ad-5bd29367345a"
      },
      "execution_count": null,
      "outputs": [
        {
          "output_type": "stream",
          "name": "stdout",
          "text": [
            "Hi,{name} your balance is {balance}\n"
          ]
        }
      ]
    },
    {
      "cell_type": "code",
      "source": [
        "#Format()\n",
        "name='Tarun'\n",
        "balance=450000\n",
        "\n",
        "print(\"Hi,{} your balance is {}\".format(name,balance))\n",
        "print(\"Hi,{} your balance is {}\".format(balance,name))\n",
        "print(\"Hi,{1} your balance is {0}\".format(balance,name))"
      ],
      "metadata": {
        "colab": {
          "base_uri": "https://localhost:8080/"
        },
        "id": "4e-8pns-hWFE",
        "outputId": "82e46e57-755f-42e2-c6d6-8cff238d8cbb"
      },
      "execution_count": null,
      "outputs": [
        {
          "output_type": "stream",
          "name": "stdout",
          "text": [
            "Hi,Tarun your balance is 450000\n",
            "Hi,450000 your balance is Tarun\n",
            "Hi,Tarun your balance is 450000\n"
          ]
        }
      ]
    },
    {
      "cell_type": "code",
      "source": [
        "#Spliting split()\n",
        "str=\"This is a sample  string\"\n",
        "print(str.split())  #default seperator is space"
      ],
      "metadata": {
        "colab": {
          "base_uri": "https://localhost:8080/"
        },
        "id": "LoV3W_RpjTon",
        "outputId": "c323d7a9-978e-4602-ab6b-149d601a5044"
      },
      "execution_count": null,
      "outputs": [
        {
          "output_type": "stream",
          "name": "stdout",
          "text": [
            "['This', 'is', 'a', 'sample', 'string']\n"
          ]
        }
      ]
    },
    {
      "cell_type": "code",
      "source": [
        "str=\"Kapil,Tarun,Rajesh,Prakash,John\"\n",
        "print(str.split(','))"
      ],
      "metadata": {
        "colab": {
          "base_uri": "https://localhost:8080/"
        },
        "id": "PxXsEGoCjtgw",
        "outputId": "eb53692e-ffb3-47b1-eb2e-b17b51492396"
      },
      "execution_count": null,
      "outputs": [
        {
          "output_type": "stream",
          "name": "stdout",
          "text": [
            "['Kapil', 'Tarun', 'Rajesh', 'Prakash', 'John']\n"
          ]
        }
      ]
    },
    {
      "cell_type": "code",
      "source": [
        "lst=[45,63,98,56,23]\n",
        "print(lst.count.__doc__)"
      ],
      "metadata": {
        "colab": {
          "base_uri": "https://localhost:8080/"
        },
        "id": "g4cVo_itmpUV",
        "outputId": "d4209439-8718-4903-b639-46f73be15bf0"
      },
      "execution_count": null,
      "outputs": [
        {
          "output_type": "stream",
          "name": "stdout",
          "text": [
            "Return number of occurrences of value.\n"
          ]
        }
      ]
    },
    {
      "cell_type": "code",
      "source": [
        "print(dir(lst))"
      ],
      "metadata": {
        "colab": {
          "base_uri": "https://localhost:8080/"
        },
        "id": "WATpfU2XnFnx",
        "outputId": "cdf7c91e-6c4e-4cae-d01a-4d4164fdc1a7"
      },
      "execution_count": null,
      "outputs": [
        {
          "output_type": "stream",
          "name": "stdout",
          "text": [
            "['__add__', '__class__', '__class_getitem__', '__contains__', '__delattr__', '__delitem__', '__dir__', '__doc__', '__eq__', '__format__', '__ge__', '__getattribute__', '__getitem__', '__getstate__', '__gt__', '__hash__', '__iadd__', '__imul__', '__init__', '__init_subclass__', '__iter__', '__le__', '__len__', '__lt__', '__mul__', '__ne__', '__new__', '__reduce__', '__reduce_ex__', '__repr__', '__reversed__', '__rmul__', '__setattr__', '__setitem__', '__sizeof__', '__str__', '__subclasshook__', 'append', 'clear', 'copy', 'count', 'extend', 'index', 'insert', 'pop', 'remove', 'reverse', 'sort']\n"
          ]
        }
      ]
    },
    {
      "cell_type": "code",
      "source": [
        "for i in dir(lst):\n",
        "  print(i)"
      ],
      "metadata": {
        "colab": {
          "base_uri": "https://localhost:8080/"
        },
        "id": "iqU3yJ79oFmr",
        "outputId": "c12e329e-14b4-4594-a167-ffd18cd7c945"
      },
      "execution_count": null,
      "outputs": [
        {
          "output_type": "stream",
          "name": "stdout",
          "text": [
            "__add__\n",
            "__class__\n",
            "__class_getitem__\n",
            "__contains__\n",
            "__delattr__\n",
            "__delitem__\n",
            "__dir__\n",
            "__doc__\n",
            "__eq__\n",
            "__format__\n",
            "__ge__\n",
            "__getattribute__\n",
            "__getitem__\n",
            "__getstate__\n",
            "__gt__\n",
            "__hash__\n",
            "__iadd__\n",
            "__imul__\n",
            "__init__\n",
            "__init_subclass__\n",
            "__iter__\n",
            "__le__\n",
            "__len__\n",
            "__lt__\n",
            "__mul__\n",
            "__ne__\n",
            "__new__\n",
            "__reduce__\n",
            "__reduce_ex__\n",
            "__repr__\n",
            "__reversed__\n",
            "__rmul__\n",
            "__setattr__\n",
            "__setitem__\n",
            "__sizeof__\n",
            "__str__\n",
            "__subclasshook__\n",
            "append\n",
            "clear\n",
            "copy\n",
            "count\n",
            "extend\n",
            "index\n",
            "insert\n",
            "pop\n",
            "remove\n",
            "reverse\n",
            "sort\n"
          ]
        }
      ]
    },
    {
      "cell_type": "code",
      "source": [
        "print(lst.count.__doc__)"
      ],
      "metadata": {
        "colab": {
          "base_uri": "https://localhost:8080/"
        },
        "id": "-RHgqabOoJmm",
        "outputId": "b45c2780-5200-4a43-ae8f-ab89dd8b9637"
      },
      "execution_count": null,
      "outputs": [
        {
          "output_type": "stream",
          "name": "stdout",
          "text": [
            "Return number of occurrences of value.\n"
          ]
        }
      ]
    },
    {
      "cell_type": "markdown",
      "source": [
        "Flow Control Statements: conditional Statments,Loops"
      ],
      "metadata": {
        "id": "6yAyz2S2pYJf"
      }
    },
    {
      "cell_type": "code",
      "source": [
        "#Conditional Statments:if,else,elif\n",
        "#marks<80--->B\n",
        "#marks>80-100--->A\n",
        "marks=int(input(\"Enter your marks:\"))\n",
        "\n",
        "if marks>80:\n",
        "  print(\"Grade: A\")\n",
        "else:\n",
        "  print(\"Grade: B\")"
      ],
      "metadata": {
        "colab": {
          "base_uri": "https://localhost:8080/"
        },
        "id": "VoCqISRetLXE",
        "outputId": "35777ea6-89c4-4308-8ee7-61ec567c4bfb"
      },
      "execution_count": null,
      "outputs": [
        {
          "output_type": "stream",
          "name": "stdout",
          "text": [
            "Enter your marks:74\n",
            "Grade: B\n"
          ]
        }
      ]
    },
    {
      "cell_type": "code",
      "source": [
        "#marks<50--->D\n",
        "#marks>50-70--->C\n",
        "#marks>70-85--->B\n",
        "#marks>85---->A\n",
        "#marks>95---->A+\n",
        "marks=int(input(\"Enter your marks:\"))\n",
        "if marks<50 and marks>0:\n",
        "    print(\"Grade: D\")\n",
        "elif marks>=50 and marks<70:\n",
        "    print(\"Grade: C\")\n",
        "elif marks>=70 and marks<85:\n",
        "    print(\"Grade: B\")\n",
        "elif marks>=85 and marks<100:\n",
        "    if marks>=95 and marks<100:  #Nested Statement\n",
        "      print(\"Grade: A+\")\n",
        "    else:\n",
        "      print(\"Grade: A\")"
      ],
      "metadata": {
        "colab": {
          "base_uri": "https://localhost:8080/"
        },
        "id": "4RxTYf01uXHn",
        "outputId": "162e033c-6cfe-482d-b11e-41e3f6675826"
      },
      "execution_count": null,
      "outputs": [
        {
          "output_type": "stream",
          "name": "stdout",
          "text": [
            "Enter your marks:94\n",
            "Grade: A\n"
          ]
        }
      ]
    },
    {
      "cell_type": "code",
      "source": [
        "#Loops:for,while\n",
        "lst=[45,63,98,52,32,78,45,12,96]\n",
        "print(lst[3])"
      ],
      "metadata": {
        "colab": {
          "base_uri": "https://localhost:8080/"
        },
        "id": "_OPHkXuHwJOZ",
        "outputId": "3a3a6243-5d65-43a3-897f-e361e6a2d444"
      },
      "execution_count": null,
      "outputs": [
        {
          "output_type": "stream",
          "name": "stdout",
          "text": [
            "52\n"
          ]
        }
      ]
    },
    {
      "cell_type": "code",
      "source": [
        "for i in lst:\n",
        "  print(i)"
      ],
      "metadata": {
        "colab": {
          "base_uri": "https://localhost:8080/"
        },
        "id": "A1B9CN-LxuOp",
        "outputId": "d3b89bd4-1188-4508-b396-055289e95dd1"
      },
      "execution_count": null,
      "outputs": [
        {
          "output_type": "stream",
          "name": "stdout",
          "text": [
            "45\n",
            "63\n",
            "98\n",
            "52\n",
            "32\n",
            "78\n",
            "45\n",
            "12\n",
            "96\n"
          ]
        }
      ]
    },
    {
      "cell_type": "code",
      "source": [
        "print(emp)"
      ],
      "metadata": {
        "colab": {
          "base_uri": "https://localhost:8080/"
        },
        "id": "p3qvX7vDyLnu",
        "outputId": "25ebebe5-0ad2-4cf2-e511-be6d7c50cfed"
      },
      "execution_count": null,
      "outputs": [
        {
          "output_type": "stream",
          "name": "stdout",
          "text": [
            "{'id': [1001, 1002, 1003], 'name': ['Amit', 'Kapil', 'Ramesh'], 'salary': [25000, 35000, 45000]}\n"
          ]
        }
      ]
    },
    {
      "cell_type": "code",
      "source": [
        "for i in emp:\n",
        "  print(emp[i])"
      ],
      "metadata": {
        "colab": {
          "base_uri": "https://localhost:8080/"
        },
        "id": "WXHrBI2YyNKF",
        "outputId": "1fe7029b-f1e4-439c-ce46-c5d2aec7675d"
      },
      "execution_count": null,
      "outputs": [
        {
          "output_type": "stream",
          "name": "stdout",
          "text": [
            "[1001, 1002, 1003]\n",
            "['Amit', 'Kapil', 'Ramesh']\n",
            "[25000, 35000, 45000]\n"
          ]
        }
      ]
    },
    {
      "cell_type": "code",
      "source": [
        "for i in enumerate(lst):\n",
        "  print(i)"
      ],
      "metadata": {
        "colab": {
          "base_uri": "https://localhost:8080/"
        },
        "id": "bchJMUKTyT8o",
        "outputId": "e912e15c-2fcd-4fa2-9fb6-ff98e2f61d1c"
      },
      "execution_count": null,
      "outputs": [
        {
          "output_type": "stream",
          "name": "stdout",
          "text": [
            "(0, 45)\n",
            "(1, 63)\n",
            "(2, 98)\n",
            "(3, 52)\n",
            "(4, 32)\n",
            "(5, 78)\n",
            "(6, 45)\n",
            "(7, 12)\n",
            "(8, 96)\n"
          ]
        }
      ]
    },
    {
      "cell_type": "code",
      "source": [
        "#range(start,stop,step)\n",
        "print(list(range(1,21)))\n",
        "print(list(range(0,100,5)))"
      ],
      "metadata": {
        "colab": {
          "base_uri": "https://localhost:8080/"
        },
        "id": "cEokxGXJzEUn",
        "outputId": "e0cfc380-6815-49b6-eb8e-6087687a282e"
      },
      "execution_count": null,
      "outputs": [
        {
          "output_type": "stream",
          "name": "stdout",
          "text": [
            "[1, 2, 3, 4, 5, 6, 7, 8, 9, 10, 11, 12, 13, 14, 15, 16, 17, 18, 19, 20]\n",
            "[0, 5, 10, 15, 20, 25, 30, 35, 40, 45, 50, 55, 60, 65, 70, 75, 80, 85, 90, 95]\n"
          ]
        }
      ]
    },
    {
      "cell_type": "code",
      "source": [
        "#Print table of a given number\n",
        "num=int(input(\"Enter a number:\"))\n",
        "for i in range(1,11): #[1,2,3,4,5,6,.....]\n",
        "  print(f\"{num}*{i}={num*i}\")"
      ],
      "metadata": {
        "colab": {
          "base_uri": "https://localhost:8080/"
        },
        "id": "KdGYVyRUyjoE",
        "outputId": "6b74d1b0-835f-466b-9799-a1c594fe33d6"
      },
      "execution_count": null,
      "outputs": [
        {
          "output_type": "stream",
          "name": "stdout",
          "text": [
            "Enter a number:16\n",
            "16*1=16\n",
            "16*2=32\n",
            "16*3=48\n",
            "16*4=64\n",
            "16*5=80\n",
            "16*6=96\n",
            "16*7=112\n",
            "16*8=128\n",
            "16*9=144\n",
            "16*10=160\n"
          ]
        }
      ]
    },
    {
      "cell_type": "code",
      "source": [
        "#While loop\n",
        "marks=int(input(\"Enter your marks:\"))\n",
        "i=1\n",
        "while i<=10:\n",
        "  print(f\"{num}*{i}={num*i}\")\n",
        "  i+=1"
      ],
      "metadata": {
        "colab": {
          "base_uri": "https://localhost:8080/"
        },
        "id": "-ysa8scXzcQH",
        "outputId": "e5de92d7-90e3-429a-fc13-b7e8170f51fa"
      },
      "execution_count": null,
      "outputs": [
        {
          "output_type": "stream",
          "name": "stdout",
          "text": [
            "Enter your marks:16\n",
            "16*1=16\n",
            "16*2=32\n",
            "16*3=48\n",
            "16*4=64\n",
            "16*5=80\n",
            "16*6=96\n",
            "16*7=112\n",
            "16*8=128\n",
            "16*9=144\n",
            "16*10=160\n"
          ]
        }
      ]
    },
    {
      "cell_type": "code",
      "source": [
        "#Guess the number game\n",
        "import random\n",
        "number=random.randint(1,100)\n",
        "attempts=0\n",
        "\n",
        "while True:\n",
        "  guess=int(input(\"Guess a number between 1 and 100:\"))\n",
        "  attempts+=1\n",
        "\n",
        "  if guess<number:\n",
        "    print(\"Too low! Try again.\")\n",
        "  elif guess>number:\n",
        "    print(\"Too high! Try again.\")\n",
        "  else:\n",
        "    print(f\"Congratulations! You guessed the number {number} in {attempts} attempts.\")\n",
        "    break"
      ],
      "metadata": {
        "colab": {
          "base_uri": "https://localhost:8080/"
        },
        "id": "uUQBq2YA0xqG",
        "outputId": "3f3a2f02-fa84-4a38-bbcd-136017b99dba"
      },
      "execution_count": null,
      "outputs": [
        {
          "output_type": "stream",
          "name": "stdout",
          "text": [
            "Guess a number between 1 and 100:8\n",
            "Too low! Try again.\n",
            "Guess a number between 1 and 100:50\n",
            "Too high! Try again.\n",
            "Guess a number between 1 and 100:40\n",
            "Too low! Try again.\n",
            "Guess a number between 1 and 100:45\n",
            "Too high! Try again.\n",
            "Guess a number between 1 and 100:42\n",
            "Too high! Try again.\n",
            "Guess a number between 1 and 100:41\n",
            "Congratulations! You guessed the number 41 in 0 attempts.\n"
          ]
        }
      ]
    },
    {
      "cell_type": "code",
      "source": [
        "lst=[45,6,985,23,68,57,45,12,63,95,85,12]\n",
        "num=int(input(\"enter a number to search:\"))\n",
        "for i in lst:\n",
        "  if i==num:\n",
        "    print(\"Number Found\")\n",
        "    break\n",
        "  else:\n",
        "    print(i)"
      ],
      "metadata": {
        "colab": {
          "base_uri": "https://localhost:8080/"
        },
        "id": "OX-mGd092Nwn",
        "outputId": "afe4189b-2f56-4ddc-9f9a-6b0acd5a2fcc"
      },
      "execution_count": null,
      "outputs": [
        {
          "output_type": "stream",
          "name": "stdout",
          "text": [
            "enter a number to search:57\n",
            "45\n",
            "6\n",
            "985\n",
            "23\n",
            "68\n",
            "Number Found\n"
          ]
        }
      ]
    },
    {
      "cell_type": "code",
      "source": [
        "#Match case--->DIY"
      ],
      "metadata": {
        "id": "uOwkRXvC38ZM"
      },
      "execution_count": null,
      "outputs": []
    },
    {
      "cell_type": "markdown",
      "source": [
        "**Python Functions**\n",
        "\n",
        "Write once and Use many\n",
        "\n",
        "1.Built-in functions\n",
        "\n",
        "2.User defined functions\n",
        "\n",
        "3.Use functions from modules/libraries"
      ],
      "metadata": {
        "id": "I0yvnb7M4fA4"
      }
    },
    {
      "cell_type": "code",
      "source": [
        "#User defined functions: 1.define 2.invoke/calling\n",
        "\n",
        "#Defenation function-write once\n",
        "def greet(name): #name is argument/parameter\n",
        "  print(f\"Hi,{name} good morning\")"
      ],
      "metadata": {
        "colab": {
          "base_uri": "https://localhost:8080/"
        },
        "id": "DU018LUX3Ya-",
        "outputId": "a7de58ef-2996-4b36-d6c8-8873dac5ef36"
      },
      "execution_count": null,
      "outputs": [
        {
          "output_type": "stream",
          "name": "stdout",
          "text": [
            "Hi,Kapil good morning\n"
          ]
        }
      ]
    },
    {
      "cell_type": "code",
      "source": [
        "#Calling function-use many, On demand\n",
        "greet(\"Kapil\")\n",
        "greet(\"Asmita\")\n",
        "greet(\"Sakshi\")"
      ],
      "metadata": {
        "colab": {
          "base_uri": "https://localhost:8080/"
        },
        "id": "uQXBBhIf6oBq",
        "outputId": "ae326102-c020-4d87-f11e-7dfbac8b594e"
      },
      "execution_count": null,
      "outputs": [
        {
          "output_type": "stream",
          "name": "stdout",
          "text": [
            "Hi,Kapil good morning\n",
            "Hi,Asmita good morning\n",
            "Hi,Sakshi good morning\n"
          ]
        }
      ]
    },
    {
      "cell_type": "code",
      "source": [
        "#Find even items out of a list\n",
        "items=[47,25,22,12,36,56,97,53,78,58,13]\n",
        "\n",
        "def even_item(lst):\n",
        "  even=[]\n",
        "  for i in lst:\n",
        "    if i%2==0:\n",
        "      even.append(i)\n",
        "  return even"
      ],
      "metadata": {
        "id": "NPAoIYHW6uPW"
      },
      "execution_count": null,
      "outputs": []
    },
    {
      "cell_type": "code",
      "source": [
        "result=even_item(items)\n",
        "print(result)"
      ],
      "metadata": {
        "colab": {
          "base_uri": "https://localhost:8080/"
        },
        "id": "nT8jroIH8MpD",
        "outputId": "23ee84e8-112b-44c9-ee34-a0ecc4c0319a"
      },
      "execution_count": null,
      "outputs": [
        {
          "output_type": "stream",
          "name": "stdout",
          "text": [
            "[22, 12, 36, 56, 78, 58]\n"
          ]
        }
      ]
    },
    {
      "cell_type": "code",
      "source": [
        "#Sukumar's Code\n",
        "items = [45,33,44,21,54,8,42,2,6,674]\n",
        "def even_item(items):\n",
        "  even =[]\n",
        "  for i in items:\n",
        "    if i%2==0:\n",
        "      even.append(i)\n",
        "  return even\n",
        "\n",
        "print(even_item(items))"
      ],
      "metadata": {
        "colab": {
          "base_uri": "https://localhost:8080/"
        },
        "id": "UeB9EZgx8v0r",
        "outputId": "6b21c24e-ca46-419c-fafa-0614a3a8a622"
      },
      "execution_count": null,
      "outputs": [
        {
          "output_type": "stream",
          "name": "stdout",
          "text": [
            "[44, 54, 8, 42, 2, 6, 674]\n"
          ]
        }
      ]
    },
    {
      "cell_type": "code",
      "source": [],
      "metadata": {
        "id": "0EoF6B7y9tPn"
      },
      "execution_count": null,
      "outputs": []
    }
  ]
}